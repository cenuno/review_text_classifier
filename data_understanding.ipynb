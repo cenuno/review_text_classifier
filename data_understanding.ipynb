{
 "cells": [
  {
   "cell_type": "markdown",
   "metadata": {},
   "source": [
    "## Data Understanding\n",
    "\n",
    "### from YELP Dataset on Kaggle\n"
   ]
  },
  {
   "cell_type": "markdown",
   "metadata": {},
   "source": [
    "#### Builiding an initial database with json files\n",
    "\n",
    "There are several json files on data set from Yelp on Kaggle,\n",
    "upload to mongodb with\n",
    "\n",
    ">mongoimport\n",
    "\n",
    "And build some indexs on the mongodb with\n",
    "\n",
    "> db.review.createIndex({business_id:1})"
   ]
  },
  {
   "cell_type": "markdown",
   "metadata": {},
   "source": [
    "First of all import necessary libraries"
   ]
  },
  {
   "cell_type": "code",
   "execution_count": 79,
   "metadata": {},
   "outputs": [],
   "source": [
    "import pymongo\n",
    "import pandas as pd"
   ]
  },
  {
   "cell_type": "code",
   "execution_count": 80,
   "metadata": {},
   "outputs": [],
   "source": [
    "mc = pymongo.MongoClient()\n",
    "db = mc['yelp']"
   ]
  },
  {
   "cell_type": "markdown",
   "metadata": {},
   "source": [
    "Shape of 'Business' and 'Review' Collection"
   ]
  },
  {
   "cell_type": "code",
   "execution_count": 81,
   "metadata": {},
   "outputs": [],
   "source": [
    "business_coll = db['business']\n",
    "review_coll = db['review']"
   ]
  },
  {
   "cell_type": "code",
   "execution_count": 82,
   "metadata": {},
   "outputs": [
    {
     "data": {
      "text/plain": [
       "192609"
      ]
     },
     "execution_count": 82,
     "metadata": {},
     "output_type": "execute_result"
    }
   ],
   "source": [
    "business_coll.count_documents({})"
   ]
  },
  {
   "cell_type": "code",
   "execution_count": 83,
   "metadata": {},
   "outputs": [
    {
     "data": {
      "text/plain": [
       "{'_id': ObjectId('5ced65b1ba8666cdc2af7fa8'),\n",
       " 'business_id': 'xvX2CttrVhyG2z1dFg_0xw',\n",
       " 'name': 'Farmers Insurance - Paul Lorenz',\n",
       " 'address': '15655 W Roosevelt St, Ste 237',\n",
       " 'city': 'Goodyear',\n",
       " 'state': 'AZ',\n",
       " 'postal_code': '85338',\n",
       " 'latitude': 33.4556129678,\n",
       " 'longitude': -112.3955963552,\n",
       " 'stars': 5.0,\n",
       " 'review_count': 3,\n",
       " 'is_open': 1,\n",
       " 'attributes': None,\n",
       " 'categories': 'Insurance, Financial Services',\n",
       " 'hours': {'Monday': '8:0-17:0',\n",
       "  'Tuesday': '8:0-17:0',\n",
       "  'Wednesday': '8:0-17:0',\n",
       "  'Thursday': '8:0-17:0',\n",
       "  'Friday': '8:0-17:0'}}"
      ]
     },
     "execution_count": 83,
     "metadata": {},
     "output_type": "execute_result"
    }
   ],
   "source": [
    "cur = business_coll.find({})\n",
    "next(cur)"
   ]
  },
  {
   "cell_type": "code",
   "execution_count": 84,
   "metadata": {},
   "outputs": [],
   "source": [
    "cities = business_coll.find({}).distinct(\"city\")"
   ]
  },
  {
   "cell_type": "code",
   "execution_count": 85,
   "metadata": {},
   "outputs": [
    {
     "data": {
      "text/plain": [
       "1204"
      ]
     },
     "execution_count": 85,
     "metadata": {},
     "output_type": "execute_result"
    }
   ],
   "source": [
    "len(cities)"
   ]
  },
  {
   "cell_type": "code",
   "execution_count": 86,
   "metadata": {},
   "outputs": [],
   "source": [
    "states = business_coll.find({}).distinct(\"state\")"
   ]
  },
  {
   "cell_type": "code",
   "execution_count": 87,
   "metadata": {},
   "outputs": [
    {
     "name": "stdout",
     "output_type": "stream",
     "text": [
      "['AZ', 'ON', 'NC', 'AB', 'NV', 'OH', 'PA', 'QC', 'WI', 'IL', 'NY', 'SC', 'TX', 'UT', 'NM', 'FL', 'CA', 'VA', 'BAS', 'NE', 'AK', 'XGM', 'WA', 'XWY', 'CON', 'BC', 'GA', 'VT', 'CT', 'AL', 'DUR', 'TN', 'NJ', 'AR', 'XGL', 'DOW']\n"
     ]
    }
   ],
   "source": [
    "print(states)"
   ]
  },
  {
   "cell_type": "code",
   "execution_count": 88,
   "metadata": {},
   "outputs": [],
   "source": [
    "vegas = business_coll.find({'city':'Las Vegas'})"
   ]
  },
  {
   "cell_type": "code",
   "execution_count": 89,
   "metadata": {},
   "outputs": [
    {
     "data": {
      "text/plain": [
       "29370"
      ]
     },
     "execution_count": 89,
     "metadata": {},
     "output_type": "execute_result"
    }
   ],
   "source": [
    "len(list(vegas))"
   ]
  },
  {
   "cell_type": "code",
   "execution_count": 90,
   "metadata": {},
   "outputs": [],
   "source": [
    "cur = business_coll.find({})"
   ]
  },
  {
   "cell_type": "code",
   "execution_count": 91,
   "metadata": {},
   "outputs": [],
   "source": [
    "restuants_vegas = business_coll.find({'categories':{\"$regex\": u\"Restaurants\"}, 'city':'Las Vegas'})\n",
    "df = pd.DataFrame(list(restuants_vegas))"
   ]
  },
  {
   "cell_type": "code",
   "execution_count": 92,
   "metadata": {},
   "outputs": [
    {
     "data": {
      "text/html": [
       "<div>\n",
       "<style scoped>\n",
       "    .dataframe tbody tr th:only-of-type {\n",
       "        vertical-align: middle;\n",
       "    }\n",
       "\n",
       "    .dataframe tbody tr th {\n",
       "        vertical-align: top;\n",
       "    }\n",
       "\n",
       "    .dataframe thead th {\n",
       "        text-align: right;\n",
       "    }\n",
       "</style>\n",
       "<table border=\"1\" class=\"dataframe\">\n",
       "  <thead>\n",
       "    <tr style=\"text-align: right;\">\n",
       "      <th></th>\n",
       "      <th>_id</th>\n",
       "      <th>address</th>\n",
       "      <th>attributes</th>\n",
       "      <th>business_id</th>\n",
       "      <th>categories</th>\n",
       "      <th>city</th>\n",
       "      <th>hours</th>\n",
       "      <th>is_open</th>\n",
       "      <th>latitude</th>\n",
       "      <th>longitude</th>\n",
       "      <th>name</th>\n",
       "      <th>postal_code</th>\n",
       "      <th>review_count</th>\n",
       "      <th>stars</th>\n",
       "      <th>state</th>\n",
       "    </tr>\n",
       "  </thead>\n",
       "  <tbody>\n",
       "    <tr>\n",
       "      <th>0</th>\n",
       "      <td>5ced65b1ba8666cdc2af7fc0</td>\n",
       "      <td>6055 E Lake Mead Blvd</td>\n",
       "      <td>{'BikeParking': 'True', 'BusinessParking': '{'...</td>\n",
       "      <td>tstimHoMcYbkSC4eBA1wEg</td>\n",
       "      <td>Mexican, Restaurants, Patisserie/Cake Shop, Fo...</td>\n",
       "      <td>Las Vegas</td>\n",
       "      <td>{'Monday': '11:0-21:0', 'Tuesday': '10:0-21:0'...</td>\n",
       "      <td>1</td>\n",
       "      <td>36.195615</td>\n",
       "      <td>-115.040529</td>\n",
       "      <td>Maria's Mexican Restaurant &amp; Bakery</td>\n",
       "      <td>89156</td>\n",
       "      <td>184</td>\n",
       "      <td>4.5</td>\n",
       "      <td>NV</td>\n",
       "    </tr>\n",
       "    <tr>\n",
       "      <th>1</th>\n",
       "      <td>5ced65b1ba8666cdc2af7fc5</td>\n",
       "      <td>1775 E Tropicana Ave, Ste 29</td>\n",
       "      <td>{'OutdoorSeating': 'False', 'BusinessAcceptsCr...</td>\n",
       "      <td>PZ-LZzSlhSe9utkQYU8pFg</td>\n",
       "      <td>Restaurants, Italian</td>\n",
       "      <td>Las Vegas</td>\n",
       "      <td>None</td>\n",
       "      <td>0</td>\n",
       "      <td>36.100016</td>\n",
       "      <td>-115.128529</td>\n",
       "      <td>Carluccio's Tivoli Gardens</td>\n",
       "      <td>89119</td>\n",
       "      <td>40</td>\n",
       "      <td>4.0</td>\n",
       "      <td>NV</td>\n",
       "    </tr>\n",
       "    <tr>\n",
       "      <th>2</th>\n",
       "      <td>5ced65b1ba8666cdc2af7ff2</td>\n",
       "      <td>6125 Spring Mountain Rd</td>\n",
       "      <td>{'RestaurantsPriceRange2': '1', 'Ambience': '{...</td>\n",
       "      <td>kANF0dbeoW34s2vwh6Umfw</td>\n",
       "      <td>Fast Food, Food, Restaurants, Ice Cream &amp; Froz...</td>\n",
       "      <td>Las Vegas</td>\n",
       "      <td>None</td>\n",
       "      <td>0</td>\n",
       "      <td>36.125031</td>\n",
       "      <td>-115.225620</td>\n",
       "      <td>Dairy Queen</td>\n",
       "      <td>89146</td>\n",
       "      <td>33</td>\n",
       "      <td>2.0</td>\n",
       "      <td>NV</td>\n",
       "    </tr>\n",
       "    <tr>\n",
       "      <th>3</th>\n",
       "      <td>5ced65b1ba8666cdc2af8015</td>\n",
       "      <td>4343 N Rancho Dr</td>\n",
       "      <td>None</td>\n",
       "      <td>X8mtoSxY8whtmbDlj0D3Aw</td>\n",
       "      <td>Restaurants, Chinese</td>\n",
       "      <td>Las Vegas</td>\n",
       "      <td>None</td>\n",
       "      <td>1</td>\n",
       "      <td>36.238596</td>\n",
       "      <td>-115.233331</td>\n",
       "      <td>Imperial Asian Buffet</td>\n",
       "      <td>89030</td>\n",
       "      <td>4</td>\n",
       "      <td>2.0</td>\n",
       "      <td>NV</td>\n",
       "    </tr>\n",
       "    <tr>\n",
       "      <th>4</th>\n",
       "      <td>5ced65b1ba8666cdc2af8033</td>\n",
       "      <td>Artisan Hotel, 1501 W Sahara Ave</td>\n",
       "      <td>{'RestaurantsAttire': ''dressy'', 'Corkage': '...</td>\n",
       "      <td>bJP4l_BGq2CudEu0m-wNjg</td>\n",
       "      <td>Restaurants, Pizza, Italian, American (New)</td>\n",
       "      <td>Las Vegas</td>\n",
       "      <td>{'Monday': '16:0-0:0', 'Tuesday': '16:0-0:0', ...</td>\n",
       "      <td>0</td>\n",
       "      <td>36.143672</td>\n",
       "      <td>-115.169792</td>\n",
       "      <td>Artisan Fine Dining Room</td>\n",
       "      <td>89102</td>\n",
       "      <td>3</td>\n",
       "      <td>2.0</td>\n",
       "      <td>NV</td>\n",
       "    </tr>\n",
       "  </tbody>\n",
       "</table>\n",
       "</div>"
      ],
      "text/plain": [
       "                        _id                           address  \\\n",
       "0  5ced65b1ba8666cdc2af7fc0             6055 E Lake Mead Blvd   \n",
       "1  5ced65b1ba8666cdc2af7fc5      1775 E Tropicana Ave, Ste 29   \n",
       "2  5ced65b1ba8666cdc2af7ff2           6125 Spring Mountain Rd   \n",
       "3  5ced65b1ba8666cdc2af8015                  4343 N Rancho Dr   \n",
       "4  5ced65b1ba8666cdc2af8033  Artisan Hotel, 1501 W Sahara Ave   \n",
       "\n",
       "                                          attributes             business_id  \\\n",
       "0  {'BikeParking': 'True', 'BusinessParking': '{'...  tstimHoMcYbkSC4eBA1wEg   \n",
       "1  {'OutdoorSeating': 'False', 'BusinessAcceptsCr...  PZ-LZzSlhSe9utkQYU8pFg   \n",
       "2  {'RestaurantsPriceRange2': '1', 'Ambience': '{...  kANF0dbeoW34s2vwh6Umfw   \n",
       "3                                               None  X8mtoSxY8whtmbDlj0D3Aw   \n",
       "4  {'RestaurantsAttire': ''dressy'', 'Corkage': '...  bJP4l_BGq2CudEu0m-wNjg   \n",
       "\n",
       "                                          categories       city  \\\n",
       "0  Mexican, Restaurants, Patisserie/Cake Shop, Fo...  Las Vegas   \n",
       "1                               Restaurants, Italian  Las Vegas   \n",
       "2  Fast Food, Food, Restaurants, Ice Cream & Froz...  Las Vegas   \n",
       "3                               Restaurants, Chinese  Las Vegas   \n",
       "4        Restaurants, Pizza, Italian, American (New)  Las Vegas   \n",
       "\n",
       "                                               hours  is_open   latitude  \\\n",
       "0  {'Monday': '11:0-21:0', 'Tuesday': '10:0-21:0'...        1  36.195615   \n",
       "1                                               None        0  36.100016   \n",
       "2                                               None        0  36.125031   \n",
       "3                                               None        1  36.238596   \n",
       "4  {'Monday': '16:0-0:0', 'Tuesday': '16:0-0:0', ...        0  36.143672   \n",
       "\n",
       "    longitude                                 name postal_code  review_count  \\\n",
       "0 -115.040529  Maria's Mexican Restaurant & Bakery       89156           184   \n",
       "1 -115.128529           Carluccio's Tivoli Gardens       89119            40   \n",
       "2 -115.225620                          Dairy Queen       89146            33   \n",
       "3 -115.233331                Imperial Asian Buffet       89030             4   \n",
       "4 -115.169792             Artisan Fine Dining Room       89102             3   \n",
       "\n",
       "   stars state  \n",
       "0    4.5    NV  \n",
       "1    4.0    NV  \n",
       "2    2.0    NV  \n",
       "3    2.0    NV  \n",
       "4    2.0    NV  "
      ]
     },
     "execution_count": 92,
     "metadata": {},
     "output_type": "execute_result"
    }
   ],
   "source": [
    "df.head()"
   ]
  },
  {
   "cell_type": "code",
   "execution_count": 93,
   "metadata": {},
   "outputs": [],
   "source": [
    "review_coll = db['review']"
   ]
  },
  {
   "cell_type": "code",
   "execution_count": 94,
   "metadata": {},
   "outputs": [
    {
     "data": {
      "text/plain": [
       "6685900"
      ]
     },
     "execution_count": 94,
     "metadata": {},
     "output_type": "execute_result"
    }
   ],
   "source": [
    "review_coll.count_documents({})"
   ]
  },
  {
   "cell_type": "code",
   "execution_count": 95,
   "metadata": {},
   "outputs": [
    {
     "data": {
      "text/plain": [
       "{'_id': ObjectId('5ced66f9ba8666cdc2b7f848'),\n",
       " 'review_id': '2TzJjDVDEuAW6MR5Vuc1ug',\n",
       " 'user_id': 'n6-Gk65cPZL6Uz8qRm3NYw',\n",
       " 'business_id': 'WTqjgwHlXbSFevF32_DJVw',\n",
       " 'stars': 5.0,\n",
       " 'useful': 3,\n",
       " 'funny': 0,\n",
       " 'cool': 0,\n",
       " 'text': \"I have to say that this office really has it together, they are so organized and friendly!  Dr. J. Phillipp is a great dentist, very friendly and professional.  The dental assistants that helped in my procedure were amazing, Jewel and Bailey helped me to feel comfortable!  I don't have dental insurance, but they have this insurance through their office you can purchase for $80 something a year and this gave me 25% off all of my dental work, plus they helped me get signed up for care credit which I knew nothing about before this visit!  I highly recommend this office for the nice synergy the whole office has!\",\n",
       " 'date': '2016-11-09 20:09:03'}"
      ]
     },
     "execution_count": 95,
     "metadata": {},
     "output_type": "execute_result"
    }
   ],
   "source": [
    "cur = review_coll.find({})\n",
    "next(cur)"
   ]
  },
  {
   "cell_type": "markdown",
   "metadata": {},
   "source": [
    "Make an review_dataframe"
   ]
  },
  {
   "cell_type": "code",
   "execution_count": 96,
   "metadata": {},
   "outputs": [],
   "source": [
    "nv_cur = coll.find({'categories':{\"$regex\": u\"Restaurants\"}, 'state':'NV'})\n",
    "\n",
    "review_list = []\n",
    "count = 0\n",
    "for doc in nv_cur:\n",
    "    review_cur = review_coll.find({\n",
    "        'business_id': doc['business_id']\n",
    "    })\n",
    "    count +=1\n",
    "    \n",
    "    for review in review_cur:\n",
    "        review_list.append({**doc, **review})\n",
    "        \n",
    "    if count == 10:\n",
    "        break"
   ]
  },
  {
   "cell_type": "code",
   "execution_count": 97,
   "metadata": {},
   "outputs": [
    {
     "data": {
      "text/html": [
       "<div>\n",
       "<style scoped>\n",
       "    .dataframe tbody tr th:only-of-type {\n",
       "        vertical-align: middle;\n",
       "    }\n",
       "\n",
       "    .dataframe tbody tr th {\n",
       "        vertical-align: top;\n",
       "    }\n",
       "\n",
       "    .dataframe thead th {\n",
       "        text-align: right;\n",
       "    }\n",
       "</style>\n",
       "<table border=\"1\" class=\"dataframe\">\n",
       "  <thead>\n",
       "    <tr style=\"text-align: right;\">\n",
       "      <th></th>\n",
       "      <th>name</th>\n",
       "      <th>review_count</th>\n",
       "      <th>is_open</th>\n",
       "      <th>stars</th>\n",
       "      <th>text</th>\n",
       "      <th>date</th>\n",
       "    </tr>\n",
       "  </thead>\n",
       "  <tbody>\n",
       "    <tr>\n",
       "      <th>0</th>\n",
       "      <td>Maria's Mexican Restaurant &amp; Bakery</td>\n",
       "      <td>184</td>\n",
       "      <td>1</td>\n",
       "      <td>4.0</td>\n",
       "      <td>We found out about this gem from The Man's co-...</td>\n",
       "      <td>2014-01-17 00:59:36</td>\n",
       "    </tr>\n",
       "    <tr>\n",
       "      <th>1</th>\n",
       "      <td>Maria's Mexican Restaurant &amp; Bakery</td>\n",
       "      <td>184</td>\n",
       "      <td>1</td>\n",
       "      <td>3.0</td>\n",
       "      <td>The \"chips\" are a fried corn tortilla which we...</td>\n",
       "      <td>2014-08-24 21:52:27</td>\n",
       "    </tr>\n",
       "    <tr>\n",
       "      <th>2</th>\n",
       "      <td>Maria's Mexican Restaurant &amp; Bakery</td>\n",
       "      <td>184</td>\n",
       "      <td>1</td>\n",
       "      <td>4.0</td>\n",
       "      <td>The pollo mole is well worth the trip out here...</td>\n",
       "      <td>2011-09-26 01:53:09</td>\n",
       "    </tr>\n",
       "    <tr>\n",
       "      <th>3</th>\n",
       "      <td>Maria's Mexican Restaurant &amp; Bakery</td>\n",
       "      <td>184</td>\n",
       "      <td>1</td>\n",
       "      <td>3.0</td>\n",
       "      <td>I've ordered Caldo de Rez from here twice and ...</td>\n",
       "      <td>2017-03-27 21:03:02</td>\n",
       "    </tr>\n",
       "    <tr>\n",
       "      <th>4</th>\n",
       "      <td>Maria's Mexican Restaurant &amp; Bakery</td>\n",
       "      <td>184</td>\n",
       "      <td>1</td>\n",
       "      <td>5.0</td>\n",
       "      <td>My boyfriend doesn't like Mexican food yet he ...</td>\n",
       "      <td>2014-02-06 03:59:50</td>\n",
       "    </tr>\n",
       "  </tbody>\n",
       "</table>\n",
       "</div>"
      ],
      "text/plain": [
       "                                  name  review_count  is_open  stars  \\\n",
       "0  Maria's Mexican Restaurant & Bakery           184        1    4.0   \n",
       "1  Maria's Mexican Restaurant & Bakery           184        1    3.0   \n",
       "2  Maria's Mexican Restaurant & Bakery           184        1    4.0   \n",
       "3  Maria's Mexican Restaurant & Bakery           184        1    3.0   \n",
       "4  Maria's Mexican Restaurant & Bakery           184        1    5.0   \n",
       "\n",
       "                                                text                 date  \n",
       "0  We found out about this gem from The Man's co-...  2014-01-17 00:59:36  \n",
       "1  The \"chips\" are a fried corn tortilla which we...  2014-08-24 21:52:27  \n",
       "2  The pollo mole is well worth the trip out here...  2011-09-26 01:53:09  \n",
       "3  I've ordered Caldo de Rez from here twice and ...  2017-03-27 21:03:02  \n",
       "4  My boyfriend doesn't like Mexican food yet he ...  2014-02-06 03:59:50  "
      ]
     },
     "execution_count": 97,
     "metadata": {},
     "output_type": "execute_result"
    }
   ],
   "source": [
    "review_df = pd.DataFrame(review_list)\n",
    "review_df[['name', 'review_count', 'is_open', 'stars', 'text', 'date']].head()"
   ]
  },
  {
   "cell_type": "markdown",
   "metadata": {},
   "source": [
    "#### Let's check the stars"
   ]
  },
  {
   "cell_type": "code",
   "execution_count": 117,
   "metadata": {},
   "outputs": [
    {
     "data": {
      "text/plain": [
       "[1.0, 2.0, 3.0, 4.0, 5.0]"
      ]
     },
     "execution_count": 117,
     "metadata": {},
     "output_type": "execute_result"
    }
   ],
   "source": [
    "stars = review_coll.find({}).distinct(\"stars\")\n",
    "sorted(stars)"
   ]
  },
  {
   "cell_type": "code",
   "execution_count": 99,
   "metadata": {},
   "outputs": [
    {
     "data": {
      "image/png": "[encoded data removed]",
      "text/plain": [
       "<Figure size 432x288 with 1 Axes>"
      ]
     },
     "metadata": {
      "needs_background": "light"
     },
     "output_type": "display_data"
    }
   ],
   "source": [
    "df.hist('stars');"
   ]
  },
  {
   "cell_type": "code",
   "execution_count": 100,
   "metadata": {},
   "outputs": [
    {
     "name": "stdout",
     "output_type": "stream",
     "text": [
      "3.5 3.6666666666666665\n",
      "4.5 4.421052631578948\n",
      "4.0 3.890909090909091\n",
      "5.0 4.75\n",
      "5.0 4.761904761904762\n",
      "4.5 4.301587301587301\n",
      "4.5 4.37037037037037\n",
      "3.5 3.289473684210526\n",
      "4.0 4.097560975609756\n",
      "1.5 1.4736842105263157\n",
      "5.0 5.0\n"
     ]
    }
   ],
   "source": [
    "cur = business_coll.find({\n",
    "    'city': 'Las Vegas'\n",
    "})\n",
    "\n",
    "for i, doc in enumerate(cur):\n",
    "    review_cur = review_coll.find({\n",
    "        'business_id': doc['business_id']\n",
    "    })\n",
    "    stars = 0\n",
    "    counts = 0\n",
    "    for review in review_cur:\n",
    "        stars += review['stars']\n",
    "        counts += 1\n",
    "\n",
    "    print(doc['stars'], stars/counts)\n",
    "    \n",
    "    if i == 10:\n",
    "        break"
   ]
  },
  {
   "cell_type": "code",
   "execution_count": 118,
   "metadata": {},
   "outputs": [],
   "source": [
    "from sklearn.feature_extraction.text import TfidfVectorizer\n",
    "from sklearn.model_selection import train_test_split\n",
    "from sklearn.linear_model import LogisticRegression\n",
    "from sklearn.model_selection import cross_val_score\n",
    "\n",
    "from sklearn.feature_extraction import stop_words\n"
   ]
  },
  {
   "cell_type": "code",
   "execution_count": 102,
   "metadata": {},
   "outputs": [],
   "source": [
    "# set train & test variables\n",
    "train_features, test_features, train_labels, test_labels = train_test_split(review_df['text'], \n",
    "                                                                            review_df['stars'], \n",
    "                                                                            test_size=0.2, \n",
    "                                                                            random_state=42)\n"
   ]
  },
  {
   "cell_type": "code",
   "execution_count": 103,
   "metadata": {},
   "outputs": [],
   "source": [
    "NGRAM_RANGE = (1, 1)\n",
    "\n",
    "TOP_K = 2000\n",
    "STOP_WORDS = 'english'\n",
    "TOKEN_MODE = 'word'\n",
    "MIN_DOCUMENT_FREQUENCY = 2"
   ]
  },
  {
   "cell_type": "code",
   "execution_count": 104,
   "metadata": {},
   "outputs": [],
   "source": [
    "kwargs = {\n",
    "            'ngram_range': NGRAM_RANGE,\n",
    "            'stop_words': STOP_WORDS,\n",
    "            'dtype': 'int32',\n",
    "            'strip_accents': 'unicode',\n",
    "            'decode_error': 'replace',\n",
    "            'analyzer': TOKEN_MODE,\n",
    "            'min_df': MIN_DOCUMENT_FREQUENCY,\n",
    "    }\n",
    "vectorizer = TfidfVectorizer(**kwargs)"
   ]
  },
  {
   "cell_type": "code",
   "execution_count": 105,
   "metadata": {},
   "outputs": [
    {
     "name": "stderr",
     "output_type": "stream",
     "text": [
      "/Users/teo/anaconda3/lib/python3.7/site-packages/sklearn/feature_extraction/text.py:1577: UserWarning: Only (<class 'numpy.float64'>, <class 'numpy.float32'>, <class 'numpy.float16'>) 'dtype' should be used. int32 'dtype' will be converted to np.float64.\n",
      "  UserWarning)\n"
     ]
    }
   ],
   "source": [
    "x_train = vectorizer.fit_transform(train_features)\n"
   ]
  },
  {
   "cell_type": "code",
   "execution_count": 106,
   "metadata": {},
   "outputs": [],
   "source": [
    "model = LogisticRegression()"
   ]
  },
  {
   "cell_type": "code",
   "execution_count": 107,
   "metadata": {},
   "outputs": [
    {
     "name": "stderr",
     "output_type": "stream",
     "text": [
      "/Users/teo/anaconda3/lib/python3.7/site-packages/sklearn/linear_model/logistic.py:433: FutureWarning: Default solver will be changed to 'lbfgs' in 0.22. Specify a solver to silence this warning.\n",
      "  FutureWarning)\n",
      "/Users/teo/anaconda3/lib/python3.7/site-packages/sklearn/linear_model/logistic.py:460: FutureWarning: Default multi_class will be changed to 'auto' in 0.22. Specify the multi_class option to silence this warning.\n",
      "  \"this warning.\", FutureWarning)\n"
     ]
    },
    {
     "data": {
      "text/plain": [
       "LogisticRegression(C=1.0, class_weight=None, dual=False, fit_intercept=True,\n",
       "          intercept_scaling=1, max_iter=100, multi_class='warn',\n",
       "          n_jobs=None, penalty='l2', random_state=None, solver='warn',\n",
       "          tol=0.0001, verbose=0, warm_start=False)"
      ]
     },
     "execution_count": 107,
     "metadata": {},
     "output_type": "execute_result"
    }
   ],
   "source": [
    "model.fit(x_train, train_labels)"
   ]
  },
  {
   "cell_type": "code",
   "execution_count": 108,
   "metadata": {},
   "outputs": [],
   "source": [
    "x_test = vectorizer.transform(test_features)"
   ]
  },
  {
   "cell_type": "code",
   "execution_count": 125,
   "metadata": {},
   "outputs": [],
   "source": [
    "pred = model.predict(x_test)"
   ]
  },
  {
   "cell_type": "code",
   "execution_count": 134,
   "metadata": {},
   "outputs": [
    {
     "name": "stdout",
     "output_type": "stream",
     "text": [
      "0.5416666666666666\n"
     ]
    }
   ],
   "source": [
    "count = 0\n",
    "total = 0\n",
    "\n",
    "for i, value in enumerate(test_labels):\n",
    "    if value == pred[i]:\n",
    "        count += 1\n",
    "    total = i+1\n",
    "        \n",
    "print(count / total)"
   ]
  },
  {
   "cell_type": "code",
   "execution_count": 135,
   "metadata": {},
   "outputs": [],
   "source": [
    "test_df = pd.DataFrame(pred)"
   ]
  },
  {
   "cell_type": "code",
   "execution_count": 136,
   "metadata": {},
   "outputs": [
    {
     "data": {
      "text/plain": [
       "array([[<matplotlib.axes._subplots.AxesSubplot object at 0x11bb95b00>]],\n",
       "      dtype=object)"
      ]
     },
     "execution_count": 136,
     "metadata": {},
     "output_type": "execute_result"
    },
    {
     "data": {
      "image/png": "[encoded data removed]",
      "text/plain": [
       "<Figure size 432x288 with 1 Axes>"
      ]
     },
     "metadata": {
      "needs_background": "light"
     },
     "output_type": "display_data"
    }
   ],
   "source": [
    "test_df.hist()"
   ]
  },
  {
   "cell_type": "code",
   "execution_count": 143,
   "metadata": {},
   "outputs": [
    {
     "data": {
      "text/plain": [
       "0.6333333333333333"
      ]
     },
     "execution_count": 143,
     "metadata": {},
     "output_type": "execute_result"
    }
   ],
   "source": [
    "len(test_df[test_df[0] == 5]) / len(test_df)"
   ]
  },
  {
   "cell_type": "code",
   "execution_count": 146,
   "metadata": {},
   "outputs": [
    {
     "data": {
      "text/plain": [
       "0.25806451612903225"
      ]
     },
     "execution_count": 146,
     "metadata": {},
     "output_type": "execute_result"
    }
   ],
   "source": [
    "len(review_df[review_df['stars'] == 4]) / len(review_df)"
   ]
  },
  {
   "cell_type": "code",
   "execution_count": 149,
   "metadata": {},
   "outputs": [
    {
     "data": {
      "text/plain": [
       "array([[<matplotlib.axes._subplots.AxesSubplot object at 0x11f20cda0>]],\n",
       "      dtype=object)"
      ]
     },
     "execution_count": 149,
     "metadata": {},
     "output_type": "execute_result"
    },
    {
     "data": {
      "image/png": "[encoded data removed]",
      "text/plain": [
       "<Figure size 432x288 with 1 Axes>"
      ]
     },
     "metadata": {
      "needs_background": "light"
     },
     "output_type": "display_data"
    }
   ],
   "source": [
    "review_df.hist('stars')"
   ]
  },
  {
   "cell_type": "code",
   "execution_count": null,
   "metadata": {},
   "outputs": [],
   "source": []
  }
 ],
 "metadata": {
  "kernelspec": {
   "display_name": "Python 3",
   "language": "python",
   "name": "python3"
  },
  "language_info": {
   "codemirror_mode": {
    "name": "ipython",
    "version": 3
   },
   "file_extension": ".py",
   "mimetype": "text/x-python",
   "name": "python",
   "nbconvert_exporter": "python",
   "pygments_lexer": "ipython3",
   "version": "3.7.3"
  }
 },
 "nbformat": 4,
 "nbformat_minor": 2
}
