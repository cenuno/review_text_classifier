{
 "cells": [
  {
   "cell_type": "markdown",
   "metadata": {},
   "source": [
    "## Data Understanding\n",
    "\n",
    "### from YELP Dataset on Kaggle\n"
   ]
  },
  {
   "cell_type": "markdown",
   "metadata": {},
   "source": [
    "#### Builiding an initial database with json files\n",
    "\n",
    "There are several json files on data set from Yelp on Kaggle,\n",
    "upload to mongodb with\n",
    "\n",
    ">mongoimport\n",
    "\n",
    "And build some indexs on the mongodb with\n",
    "\n",
    "> db.review.createIndex({business_id:1})"
   ]
  },
  {
   "cell_type": "markdown",
   "metadata": {},
   "source": [
    "First of all import necessary libraries"
   ]
  },
  {
   "cell_type": "code",
   "execution_count": 144,
   "metadata": {},
   "outputs": [],
   "source": [
    "import pandas as pd\n",
    "\n",
    "from sklearn.feature_extraction.text import TfidfVectorizer\n",
    "from sklearn.feature_extraction import stop_words\n",
    "from sklearn.model_selection import train_test_split, KFold, cross_val_score\n",
    "from sklearn.linear_model import LogisticRegression\n",
    "from sklearn.pipeline import Pipeline\n",
    "from sklearn.metrics import log_loss, accuracy_score\n",
    "from sklearn.feature_selection import SelectKBest, f_classif\n",
    "\n",
    "import pymongo"
   ]
  },
  {
   "cell_type": "code",
   "execution_count": 3,
   "metadata": {},
   "outputs": [],
   "source": [
    "mc = pymongo.MongoClient()\n",
    "db = mc['yelp']"
   ]
  },
  {
   "cell_type": "markdown",
   "metadata": {},
   "source": [
    "Shape of 'Business' and 'Review' Collection"
   ]
  },
  {
   "cell_type": "code",
   "execution_count": 4,
   "metadata": {},
   "outputs": [],
   "source": [
    "business_coll = db['business']\n",
    "review_coll = db['review']"
   ]
  },
  {
   "cell_type": "code",
   "execution_count": 5,
   "metadata": {},
   "outputs": [
    {
     "data": {
      "text/plain": [
       "385218"
      ]
     },
     "execution_count": 5,
     "metadata": {},
     "output_type": "execute_result"
    }
   ],
   "source": [
    "business_coll.count_documents({})"
   ]
  },
  {
   "cell_type": "code",
   "execution_count": 6,
   "metadata": {},
   "outputs": [
    {
     "data": {
      "text/plain": [
       "{'_id': ObjectId('5cc1e600c171cff98cbbbfc2'),\n",
       " 'business_id': '1SWheh84yJXfytovILXOAQ',\n",
       " 'name': 'Arizona Biltmore Golf Club',\n",
       " 'address': '2818 E Camino Acequia Drive',\n",
       " 'city': 'Phoenix',\n",
       " 'state': 'AZ',\n",
       " 'postal_code': '85016',\n",
       " 'latitude': 33.5221425,\n",
       " 'longitude': -112.0184807,\n",
       " 'stars': 3.0,\n",
       " 'review_count': 5,\n",
       " 'is_open': 0,\n",
       " 'attributes': {'GoodForKids': 'False'},\n",
       " 'categories': 'Golf, Active Life',\n",
       " 'hours': None}"
      ]
     },
     "execution_count": 6,
     "metadata": {},
     "output_type": "execute_result"
    }
   ],
   "source": [
    "cur = business_coll.find({})\n",
    "next(cur)"
   ]
  },
  {
   "cell_type": "code",
   "execution_count": 7,
   "metadata": {},
   "outputs": [],
   "source": [
    "cities = business_coll.find({}).distinct(\"city\")"
   ]
  },
  {
   "cell_type": "code",
   "execution_count": 8,
   "metadata": {},
   "outputs": [
    {
     "data": {
      "text/plain": [
       "1204"
      ]
     },
     "execution_count": 8,
     "metadata": {},
     "output_type": "execute_result"
    }
   ],
   "source": [
    "len(cities)"
   ]
  },
  {
   "cell_type": "code",
   "execution_count": 9,
   "metadata": {},
   "outputs": [],
   "source": [
    "states = business_coll.find({}).distinct(\"state\")"
   ]
  },
  {
   "cell_type": "code",
   "execution_count": 10,
   "metadata": {},
   "outputs": [
    {
     "name": "stdout",
     "output_type": "stream",
     "text": [
      "['AZ', 'ON', 'NC', 'AB', 'NV', 'OH', 'PA', 'QC', 'WI', 'IL', 'NY', 'SC', 'TX', 'UT', 'NM', 'FL', 'CA', 'VA', 'BAS', 'NE', 'AK', 'XGM', 'WA', 'XWY', 'CON', 'BC', 'GA', 'VT', 'CT', 'AL', 'DUR', 'TN', 'NJ', 'AR', 'XGL', 'DOW']\n"
     ]
    }
   ],
   "source": [
    "print(states)"
   ]
  },
  {
   "cell_type": "code",
   "execution_count": 11,
   "metadata": {},
   "outputs": [],
   "source": [
    "vegas = business_coll.find({'city':'Las Vegas'})"
   ]
  },
  {
   "cell_type": "code",
   "execution_count": 12,
   "metadata": {},
   "outputs": [
    {
     "data": {
      "text/plain": [
       "58740"
      ]
     },
     "execution_count": 12,
     "metadata": {},
     "output_type": "execute_result"
    }
   ],
   "source": [
    "len(list(vegas))"
   ]
  },
  {
   "cell_type": "code",
   "execution_count": 13,
   "metadata": {},
   "outputs": [],
   "source": [
    "cur = business_coll.find({})"
   ]
  },
  {
   "cell_type": "code",
   "execution_count": 14,
   "metadata": {},
   "outputs": [],
   "source": [
    "restuants_vegas = business_coll.find({'categories':{\"$regex\": u\"Restaurants\"}, 'city':'Las Vegas'})\n",
    "df = pd.DataFrame(list(restuants_vegas))"
   ]
  },
  {
   "cell_type": "code",
   "execution_count": 15,
   "metadata": {},
   "outputs": [
    {
     "data": {
      "text/html": [
       "<div>\n",
       "<style scoped>\n",
       "    .dataframe tbody tr th:only-of-type {\n",
       "        vertical-align: middle;\n",
       "    }\n",
       "\n",
       "    .dataframe tbody tr th {\n",
       "        vertical-align: top;\n",
       "    }\n",
       "\n",
       "    .dataframe thead th {\n",
       "        text-align: right;\n",
       "    }\n",
       "</style>\n",
       "<table border=\"1\" class=\"dataframe\">\n",
       "  <thead>\n",
       "    <tr style=\"text-align: right;\">\n",
       "      <th></th>\n",
       "      <th>_id</th>\n",
       "      <th>address</th>\n",
       "      <th>attributes</th>\n",
       "      <th>business_id</th>\n",
       "      <th>categories</th>\n",
       "      <th>city</th>\n",
       "      <th>hours</th>\n",
       "      <th>is_open</th>\n",
       "      <th>latitude</th>\n",
       "      <th>longitude</th>\n",
       "      <th>name</th>\n",
       "      <th>postal_code</th>\n",
       "      <th>review_count</th>\n",
       "      <th>stars</th>\n",
       "      <th>state</th>\n",
       "    </tr>\n",
       "  </thead>\n",
       "  <tbody>\n",
       "    <tr>\n",
       "      <th>0</th>\n",
       "      <td>5cc1e601c171cff98cbbbfd3</td>\n",
       "      <td>1775 E Tropicana Ave, Ste 29</td>\n",
       "      <td>{'OutdoorSeating': 'False', 'BusinessAcceptsCr...</td>\n",
       "      <td>PZ-LZzSlhSe9utkQYU8pFg</td>\n",
       "      <td>Restaurants, Italian</td>\n",
       "      <td>Las Vegas</td>\n",
       "      <td>None</td>\n",
       "      <td>0</td>\n",
       "      <td>36.100016</td>\n",
       "      <td>-115.128529</td>\n",
       "      <td>Carluccio's Tivoli Gardens</td>\n",
       "      <td>89119</td>\n",
       "      <td>40</td>\n",
       "      <td>4.0</td>\n",
       "      <td>NV</td>\n",
       "    </tr>\n",
       "    <tr>\n",
       "      <th>1</th>\n",
       "      <td>5cc1e601c171cff98cbbbfdb</td>\n",
       "      <td>6055 E Lake Mead Blvd</td>\n",
       "      <td>{'BikeParking': 'True', 'BusinessParking': '{'...</td>\n",
       "      <td>tstimHoMcYbkSC4eBA1wEg</td>\n",
       "      <td>Mexican, Restaurants, Patisserie/Cake Shop, Fo...</td>\n",
       "      <td>Las Vegas</td>\n",
       "      <td>{'Monday': '11:0-21:0', 'Tuesday': '10:0-21:0'...</td>\n",
       "      <td>1</td>\n",
       "      <td>36.195615</td>\n",
       "      <td>-115.040529</td>\n",
       "      <td>Maria's Mexican Restaurant &amp; Bakery</td>\n",
       "      <td>89156</td>\n",
       "      <td>184</td>\n",
       "      <td>4.5</td>\n",
       "      <td>NV</td>\n",
       "    </tr>\n",
       "    <tr>\n",
       "      <th>2</th>\n",
       "      <td>5cc1e601c171cff98cbbc00d</td>\n",
       "      <td>6125 Spring Mountain Rd</td>\n",
       "      <td>{'RestaurantsPriceRange2': '1', 'Ambience': '{...</td>\n",
       "      <td>kANF0dbeoW34s2vwh6Umfw</td>\n",
       "      <td>Fast Food, Food, Restaurants, Ice Cream &amp; Froz...</td>\n",
       "      <td>Las Vegas</td>\n",
       "      <td>None</td>\n",
       "      <td>0</td>\n",
       "      <td>36.125031</td>\n",
       "      <td>-115.225620</td>\n",
       "      <td>Dairy Queen</td>\n",
       "      <td>89146</td>\n",
       "      <td>33</td>\n",
       "      <td>2.0</td>\n",
       "      <td>NV</td>\n",
       "    </tr>\n",
       "    <tr>\n",
       "      <th>3</th>\n",
       "      <td>5cc1e601c171cff98cbbc031</td>\n",
       "      <td>4343 N Rancho Dr</td>\n",
       "      <td>None</td>\n",
       "      <td>X8mtoSxY8whtmbDlj0D3Aw</td>\n",
       "      <td>Restaurants, Chinese</td>\n",
       "      <td>Las Vegas</td>\n",
       "      <td>None</td>\n",
       "      <td>1</td>\n",
       "      <td>36.238596</td>\n",
       "      <td>-115.233331</td>\n",
       "      <td>Imperial Asian Buffet</td>\n",
       "      <td>89030</td>\n",
       "      <td>4</td>\n",
       "      <td>2.0</td>\n",
       "      <td>NV</td>\n",
       "    </tr>\n",
       "    <tr>\n",
       "      <th>4</th>\n",
       "      <td>5cc1e601c171cff98cbbc049</td>\n",
       "      <td>Artisan Hotel, 1501 W Sahara Ave</td>\n",
       "      <td>{'RestaurantsAttire': ''dressy'', 'Corkage': '...</td>\n",
       "      <td>bJP4l_BGq2CudEu0m-wNjg</td>\n",
       "      <td>Restaurants, Pizza, Italian, American (New)</td>\n",
       "      <td>Las Vegas</td>\n",
       "      <td>{'Monday': '16:0-0:0', 'Tuesday': '16:0-0:0', ...</td>\n",
       "      <td>0</td>\n",
       "      <td>36.143672</td>\n",
       "      <td>-115.169792</td>\n",
       "      <td>Artisan Fine Dining Room</td>\n",
       "      <td>89102</td>\n",
       "      <td>3</td>\n",
       "      <td>2.0</td>\n",
       "      <td>NV</td>\n",
       "    </tr>\n",
       "  </tbody>\n",
       "</table>\n",
       "</div>"
      ],
      "text/plain": [
       "                        _id                           address  \\\n",
       "0  5cc1e601c171cff98cbbbfd3      1775 E Tropicana Ave, Ste 29   \n",
       "1  5cc1e601c171cff98cbbbfdb             6055 E Lake Mead Blvd   \n",
       "2  5cc1e601c171cff98cbbc00d           6125 Spring Mountain Rd   \n",
       "3  5cc1e601c171cff98cbbc031                  4343 N Rancho Dr   \n",
       "4  5cc1e601c171cff98cbbc049  Artisan Hotel, 1501 W Sahara Ave   \n",
       "\n",
       "                                          attributes             business_id  \\\n",
       "0  {'OutdoorSeating': 'False', 'BusinessAcceptsCr...  PZ-LZzSlhSe9utkQYU8pFg   \n",
       "1  {'BikeParking': 'True', 'BusinessParking': '{'...  tstimHoMcYbkSC4eBA1wEg   \n",
       "2  {'RestaurantsPriceRange2': '1', 'Ambience': '{...  kANF0dbeoW34s2vwh6Umfw   \n",
       "3                                               None  X8mtoSxY8whtmbDlj0D3Aw   \n",
       "4  {'RestaurantsAttire': ''dressy'', 'Corkage': '...  bJP4l_BGq2CudEu0m-wNjg   \n",
       "\n",
       "                                          categories       city  \\\n",
       "0                               Restaurants, Italian  Las Vegas   \n",
       "1  Mexican, Restaurants, Patisserie/Cake Shop, Fo...  Las Vegas   \n",
       "2  Fast Food, Food, Restaurants, Ice Cream & Froz...  Las Vegas   \n",
       "3                               Restaurants, Chinese  Las Vegas   \n",
       "4        Restaurants, Pizza, Italian, American (New)  Las Vegas   \n",
       "\n",
       "                                               hours  is_open   latitude  \\\n",
       "0                                               None        0  36.100016   \n",
       "1  {'Monday': '11:0-21:0', 'Tuesday': '10:0-21:0'...        1  36.195615   \n",
       "2                                               None        0  36.125031   \n",
       "3                                               None        1  36.238596   \n",
       "4  {'Monday': '16:0-0:0', 'Tuesday': '16:0-0:0', ...        0  36.143672   \n",
       "\n",
       "    longitude                                 name postal_code  review_count  \\\n",
       "0 -115.128529           Carluccio's Tivoli Gardens       89119            40   \n",
       "1 -115.040529  Maria's Mexican Restaurant & Bakery       89156           184   \n",
       "2 -115.225620                          Dairy Queen       89146            33   \n",
       "3 -115.233331                Imperial Asian Buffet       89030             4   \n",
       "4 -115.169792             Artisan Fine Dining Room       89102             3   \n",
       "\n",
       "   stars state  \n",
       "0    4.0    NV  \n",
       "1    4.5    NV  \n",
       "2    2.0    NV  \n",
       "3    2.0    NV  \n",
       "4    2.0    NV  "
      ]
     },
     "execution_count": 15,
     "metadata": {},
     "output_type": "execute_result"
    }
   ],
   "source": [
    "df.head()"
   ]
  },
  {
   "cell_type": "code",
   "execution_count": 16,
   "metadata": {},
   "outputs": [],
   "source": [
    "review_coll = db['review']"
   ]
  },
  {
   "cell_type": "code",
   "execution_count": 17,
   "metadata": {},
   "outputs": [
    {
     "data": {
      "text/plain": [
       "6685900"
      ]
     },
     "execution_count": 17,
     "metadata": {},
     "output_type": "execute_result"
    }
   ],
   "source": [
    "review_coll.count_documents({})"
   ]
  },
  {
   "cell_type": "code",
   "execution_count": 18,
   "metadata": {},
   "outputs": [
    {
     "data": {
      "text/plain": [
       "{'_id': ObjectId('5ceee5ad92ffa1b8f2a3567a'),\n",
       " 'review_id': 'yi0R0Ugj_xUx_Nek0-_Qig',\n",
       " 'user_id': 'dacAIZ6fTM6mqwW5uxkskg',\n",
       " 'business_id': 'ikCg8xy5JIg_NGPx-MSIDA',\n",
       " 'stars': 5.0,\n",
       " 'useful': 0,\n",
       " 'funny': 0,\n",
       " 'cool': 0,\n",
       " 'text': \"Went in for a lunch. Steak sandwich was delicious, and the Caesar salad had an absolutely delicious dressing, with a perfect amount of dressing, and distributed perfectly across each leaf. I know I'm going on about the salad ... But it was perfect.\\n\\nDrink prices were pretty good.\\n\\nThe Server, Dawn, was friendly and accommodating. Very happy with her.\\n\\nIn summation, a great pub experience. Would go again!\",\n",
       " 'date': '2018-01-09 20:56:38'}"
      ]
     },
     "execution_count": 18,
     "metadata": {},
     "output_type": "execute_result"
    }
   ],
   "source": [
    "cur = review_coll.find({})\n",
    "next(cur)"
   ]
  },
  {
   "cell_type": "markdown",
   "metadata": {},
   "source": [
    "Make an review_dataframe"
   ]
  },
  {
   "cell_type": "code",
   "execution_count": 19,
   "metadata": {},
   "outputs": [],
   "source": [
    "nv_cur = business_coll.find({'categories':{\"$regex\": u\"Restaurants\"}, 'city':'Las Vegas'})\n",
    "\n",
    "review_list = []\n",
    "count = 0\n",
    "for doc in nv_cur:\n",
    "    review_cur = review_coll.find({\n",
    "        'business_id': doc['business_id']\n",
    "    })\n",
    "    count +=1\n",
    "    \n",
    "    for review in review_cur:\n",
    "        review_list.append({**doc, **review})\n",
    "        \n",
    "    # if count == 10:\n",
    "    #   break"
   ]
  },
  {
   "cell_type": "code",
   "execution_count": 20,
   "metadata": {},
   "outputs": [
    {
     "data": {
      "text/html": [
       "<div>\n",
       "<style scoped>\n",
       "    .dataframe tbody tr th:only-of-type {\n",
       "        vertical-align: middle;\n",
       "    }\n",
       "\n",
       "    .dataframe tbody tr th {\n",
       "        vertical-align: top;\n",
       "    }\n",
       "\n",
       "    .dataframe thead th {\n",
       "        text-align: right;\n",
       "    }\n",
       "</style>\n",
       "<table border=\"1\" class=\"dataframe\">\n",
       "  <thead>\n",
       "    <tr style=\"text-align: right;\">\n",
       "      <th></th>\n",
       "      <th>name</th>\n",
       "      <th>review_count</th>\n",
       "      <th>is_open</th>\n",
       "      <th>stars</th>\n",
       "      <th>text</th>\n",
       "      <th>date</th>\n",
       "    </tr>\n",
       "  </thead>\n",
       "  <tbody>\n",
       "    <tr>\n",
       "      <th>0</th>\n",
       "      <td>Carluccio's Tivoli Gardens</td>\n",
       "      <td>40</td>\n",
       "      <td>0</td>\n",
       "      <td>5.0</td>\n",
       "      <td>We went there for dinner the other night, bein...</td>\n",
       "      <td>2011-06-29 02:55:07</td>\n",
       "    </tr>\n",
       "    <tr>\n",
       "      <th>1</th>\n",
       "      <td>Carluccio's Tivoli Gardens</td>\n",
       "      <td>40</td>\n",
       "      <td>0</td>\n",
       "      <td>4.0</td>\n",
       "      <td>i had the best Chicken Marcela ever. The spagh...</td>\n",
       "      <td>2010-10-06 18:20:13</td>\n",
       "    </tr>\n",
       "    <tr>\n",
       "      <th>2</th>\n",
       "      <td>Carluccio's Tivoli Gardens</td>\n",
       "      <td>40</td>\n",
       "      <td>0</td>\n",
       "      <td>5.0</td>\n",
       "      <td>Basically the best Italian in town for the pri...</td>\n",
       "      <td>2010-01-13 00:35:45</td>\n",
       "    </tr>\n",
       "    <tr>\n",
       "      <th>3</th>\n",
       "      <td>Carluccio's Tivoli Gardens</td>\n",
       "      <td>40</td>\n",
       "      <td>0</td>\n",
       "      <td>3.0</td>\n",
       "      <td>Mmmmm delicious food and a little history. Mr....</td>\n",
       "      <td>2008-08-23 20:30:33</td>\n",
       "    </tr>\n",
       "    <tr>\n",
       "      <th>4</th>\n",
       "      <td>Carluccio's Tivoli Gardens</td>\n",
       "      <td>40</td>\n",
       "      <td>0</td>\n",
       "      <td>3.0</td>\n",
       "      <td>This is old Vegas, this atmosphere is old scho...</td>\n",
       "      <td>2009-06-01 20:02:55</td>\n",
       "    </tr>\n",
       "  </tbody>\n",
       "</table>\n",
       "</div>"
      ],
      "text/plain": [
       "                         name  review_count  is_open  stars  \\\n",
       "0  Carluccio's Tivoli Gardens            40        0    5.0   \n",
       "1  Carluccio's Tivoli Gardens            40        0    4.0   \n",
       "2  Carluccio's Tivoli Gardens            40        0    5.0   \n",
       "3  Carluccio's Tivoli Gardens            40        0    3.0   \n",
       "4  Carluccio's Tivoli Gardens            40        0    3.0   \n",
       "\n",
       "                                                text                 date  \n",
       "0  We went there for dinner the other night, bein...  2011-06-29 02:55:07  \n",
       "1  i had the best Chicken Marcela ever. The spagh...  2010-10-06 18:20:13  \n",
       "2  Basically the best Italian in town for the pri...  2010-01-13 00:35:45  \n",
       "3  Mmmmm delicious food and a little history. Mr....  2008-08-23 20:30:33  \n",
       "4  This is old Vegas, this atmosphere is old scho...  2009-06-01 20:02:55  "
      ]
     },
     "execution_count": 20,
     "metadata": {},
     "output_type": "execute_result"
    }
   ],
   "source": [
    "review_df = pd.DataFrame(review_list)\n",
    "review_df[['name', 'review_count', 'is_open', 'stars', 'text', 'date']].head()"
   ]
  },
  {
   "cell_type": "code",
   "execution_count": 145,
   "metadata": {},
   "outputs": [],
   "source": [
    "# pickle / unpickle raw dataframe\n",
    "review_df.to_pickle('review_df.pkl')\n",
    "# df_raw = pd.read_pickle('df_raw.pkl')"
   ]
  },
  {
   "cell_type": "markdown",
   "metadata": {},
   "source": [
    "#### Let's check the stars"
   ]
  },
  {
   "cell_type": "code",
   "execution_count": 22,
   "metadata": {},
   "outputs": [
    {
     "data": {
      "text/plain": [
       "[1.0, 2.0, 3.0, 4.0, 5.0]"
      ]
     },
     "execution_count": 22,
     "metadata": {},
     "output_type": "execute_result"
    }
   ],
   "source": [
    "# stars = review_coll.find({}).distinct(\"stars\")\n",
    "# sorted(stars)"
   ]
  },
  {
   "cell_type": "code",
   "execution_count": null,
   "metadata": {},
   "outputs": [],
   "source": [
    "# df.hist('stars');"
   ]
  },
  {
   "cell_type": "code",
   "execution_count": 23,
   "metadata": {},
   "outputs": [
    {
     "name": "stdout",
     "output_type": "stream",
     "text": [
      "3.5 3.6666666666666665\n",
      "4.0 4.097560975609756\n",
      "5.0 4.761904761904762\n",
      "4.5 4.421052631578948\n",
      "4.0 3.890909090909091\n",
      "5.0 4.75\n",
      "4.5 4.301587301587301\n",
      "4.5 4.37037037037037\n",
      "3.5 3.289473684210526\n",
      "1.5 1.4736842105263157\n",
      "5.0 5.0\n"
     ]
    }
   ],
   "source": [
    "# # validates idea that restaurant rating was an aggregate score across all reviews\n",
    "# cur = business_coll.find({\n",
    "#     'city': 'Las Vegas'\n",
    "# })\n",
    "\n",
    "# for i, doc in enumerate(cur):\n",
    "#     review_cur = review_coll.find({\n",
    "#         'business_id': doc['business_id']\n",
    "#     })\n",
    "#     stars = 0\n",
    "#     counts = 0\n",
    "#     for review in review_cur:\n",
    "#         stars += review['stars']\n",
    "#         counts += 1\n",
    "\n",
    "#     print(doc['stars'], stars/counts)\n",
    "    \n",
    "#     if i == 10:\n",
    "#         break"
   ]
  },
  {
   "cell_type": "markdown",
   "metadata": {},
   "source": [
    "### Partition data"
   ]
  },
  {
   "cell_type": "code",
   "execution_count": 146,
   "metadata": {},
   "outputs": [],
   "source": [
    "# set train & test variables\n",
    "train_features, test_features, train_labels, test_labels = train_test_split(review_df['text'], \n",
    "                                                                            review_df['stars'], \n",
    "                                                                            test_size=0.2, \n",
    "                                                                            random_state=42)\n"
   ]
  },
  {
   "cell_type": "code",
   "execution_count": 207,
   "metadata": {},
   "outputs": [
    {
     "ename": "SyntaxError",
     "evalue": "invalid syntax (<ipython-input-207-358d79ac4e3d>, line 23)",
     "output_type": "error",
     "traceback": [
      "\u001b[0;36m  File \u001b[0;32m\"<ipython-input-207-358d79ac4e3d>\"\u001b[0;36m, line \u001b[0;32m23\u001b[0m\n\u001b[0;31m    another pipeline\u001b[0m\n\u001b[0m                   ^\u001b[0m\n\u001b[0;31mSyntaxError\u001b[0m\u001b[0;31m:\u001b[0m invalid syntax\n"
     ]
    }
   ],
   "source": [
    "# pipeline (sklearn version)\n",
    "\n",
    "# pipeline = Pipeline([\n",
    "#     # Use ColumnTransformer to combine the features from subject and body\n",
    "#     ('union', ColumnTransformer(\n",
    "#         [\n",
    "#             # Pipeline for standard bag-of-words model for body (second column)\n",
    "#             ('text', Pipeline([\n",
    "#                 ('tfidf', TfidfVectorizer()),\n",
    "#                 ('best', LogisticRegression(n_components=50)),\n",
    "#             ]), 1),\n",
    "\n",
    "#             # Pipeline for pulling ad hoc features from post's body\n",
    "#             ('body_stats', Pipeline([\n",
    "#                 ('stats', TextStats()),  # returns a list of dicts\n",
    "#                 ('vect', DictVectorizer()),  # list of dicts -> feature matrix\n",
    "#             ]), 1),\n",
    "#         ],\n",
    "\n",
    "#         }\n",
    "#     )),\n",
    "\n",
    "# another pipeline from sklearn\n",
    "\n",
    "# pipeline = Pipeline([\n",
    "#     ('vect', CountVectorizer()),\n",
    "#     ('tfidf', TfidfTransformer()),\n",
    "#     ('clf', SGDClassifier(tol=1e-3)),\n",
    "# ])\n",
    "\n",
    "# # uncommenting more parameters will give better exploring power but will\n",
    "# # increase processing time in a combinatorial way\n",
    "# parameters = {\n",
    "#     'vect__max_df': (0.5, 0.75, 1.0),\n",
    "#     # 'vect__max_features': (None, 5000, 10000, 50000),\n",
    "#     'vect__ngram_range': ((1, 1), (1, 2)),  # unigrams or bigrams\n",
    "#     # 'tfidf__use_idf': (True, False),\n",
    "#     # 'tfidf__norm': ('l1', 'l2'),\n",
    "#     'clf__max_iter': (20,),\n",
    "#     'clf__alpha': (0.00001, 0.000001),\n",
    "#     'clf__penalty': ('l2', 'elasticnet'),\n",
    "#     # 'clf__max_iter': (10, 50, 80),\n",
    "# }"
   ]
  },
  {
   "cell_type": "code",
   "execution_count": 55,
   "metadata": {},
   "outputs": [],
   "source": [
    "NGRAM_RANGE = (1, 1)\n",
    "\n",
    "TOP_K = 20000\n",
    "STOP_WORDS = 'english'\n",
    "TOKEN_MODE = 'word'\n",
    "MIN_DOCUMENT_FREQUENCY = 2"
   ]
  },
  {
   "cell_type": "code",
   "execution_count": 56,
   "metadata": {},
   "outputs": [],
   "source": [
    "kwargs = {\n",
    "            'ngram_range': NGRAM_RANGE,\n",
    "            'stop_words': STOP_WORDS,\n",
    "            'dtype': 'int32',\n",
    "            'strip_accents': 'unicode',\n",
    "            'decode_error': 'replace',\n",
    "            'analyzer': TOKEN_MODE,\n",
    "            'min_df': MIN_DOCUMENT_FREQUENCY,\n",
    "}\n",
    "vectorizer = TfidfVectorizer(**kwargs)"
   ]
  },
  {
   "cell_type": "code",
   "execution_count": 57,
   "metadata": {},
   "outputs": [],
   "source": [
    "x_train = vectorizer.fit_transform(train_features)"
   ]
  },
  {
   "cell_type": "code",
   "execution_count": 105,
   "metadata": {},
   "outputs": [
    {
     "data": {
      "text/plain": [
       "(1988337, 194175)"
      ]
     },
     "execution_count": 105,
     "metadata": {},
     "output_type": "execute_result"
    }
   ],
   "source": [
    "#\n",
    "x_train.shape"
   ]
  },
  {
   "cell_type": "markdown",
   "metadata": {},
   "source": [
    "### feature selection"
   ]
  },
  {
   "cell_type": "markdown",
   "metadata": {},
   "source": [
    "#### fit model"
   ]
  },
  {
   "cell_type": "code",
   "execution_count": 58,
   "metadata": {},
   "outputs": [],
   "source": [
    "model = LogisticRegression()"
   ]
  },
  {
   "cell_type": "code",
   "execution_count": 59,
   "metadata": {},
   "outputs": [
    {
     "data": {
      "text/plain": [
       "LogisticRegression(C=1.0, class_weight=None, dual=False, fit_intercept=True,\n",
       "          intercept_scaling=1, max_iter=100, multi_class='ovr', n_jobs=1,\n",
       "          penalty='l2', random_state=None, solver='liblinear', tol=0.0001,\n",
       "          verbose=0, warm_start=False)"
      ]
     },
     "execution_count": 59,
     "metadata": {},
     "output_type": "execute_result"
    }
   ],
   "source": [
    "model.fit(x_train, train_labels)"
   ]
  },
  {
   "cell_type": "code",
   "execution_count": 61,
   "metadata": {},
   "outputs": [],
   "source": [
    "x_test = vectorizer.transform(test_features)"
   ]
  },
  {
   "cell_type": "code",
   "execution_count": 62,
   "metadata": {},
   "outputs": [
    {
     "data": {
      "text/plain": [
       "(497085,)"
      ]
     },
     "execution_count": 62,
     "metadata": {},
     "output_type": "execute_result"
    }
   ],
   "source": [
    "y_preds = model.predict(x_test)\n",
    "y_preds.shape"
   ]
  },
  {
   "cell_type": "code",
   "execution_count": 63,
   "metadata": {},
   "outputs": [
    {
     "data": {
      "text/plain": [
       "(497085, 5)"
      ]
     },
     "execution_count": 63,
     "metadata": {},
     "output_type": "execute_result"
    }
   ],
   "source": [
    "# calculate probability estimates, returned estimates for all classes, ordered by label of classes.\n",
    "# if multi_class set to “multinomial” the softmax function is used to find the predicted probability of each class. Else use a one-vs-rest approach, i.e calculate the probability of each class assuming it to be positive using the logistic function. and normalize these values across all the classes.\n",
    "y_probas = model.predict_proba(x_test)\n",
    "y_probas.shape"
   ]
  },
  {
   "cell_type": "code",
   "execution_count": 64,
   "metadata": {},
   "outputs": [
    {
     "data": {
      "text/plain": [
       "0.6616353339972036"
      ]
     },
     "execution_count": 64,
     "metadata": {},
     "output_type": "execute_result"
    }
   ],
   "source": [
    "# calculate subset accuracy\n",
    "accuracy = accuracy_score(test_labels, y_preds)\n",
    "accuracy"
   ]
  },
  {
   "cell_type": "code",
   "execution_count": 65,
   "metadata": {},
   "outputs": [
    {
     "data": {
      "text/plain": [
       "328889"
      ]
     },
     "execution_count": 65,
     "metadata": {},
     "output_type": "execute_result"
    }
   ],
   "source": [
    "# calculate number of correct predictions\n",
    "accuracy2 = accuracy_score(test_labels, y_preds, normalize=False)\n",
    "accuracy2"
   ]
  },
  {
   "cell_type": "code",
   "execution_count": 66,
   "metadata": {},
   "outputs": [
    {
     "data": {
      "text/plain": [
       "0.8151836878756975"
      ]
     },
     "execution_count": 66,
     "metadata": {},
     "output_type": "execute_result"
    }
   ],
   "source": [
    "# calculate loss function using log loss (cross-entropy loss), the negative \n",
    "# log-likelihood of true labels given a probabilistic classifier's predictions\n",
    "\n",
    "logloss = log_loss(test_labels, y_probas)\n",
    "logloss"
   ]
  },
  {
   "cell_type": "code",
   "execution_count": null,
   "metadata": {},
   "outputs": [],
   "source": [
    "# count = 0\n",
    "# total = 0\n",
    "\n",
    "# for i, value in enumerate(test_labels):\n",
    "#     if value == pred[i]:\n",
    "#         count += 1\n",
    "#     total = i+1\n",
    "        \n",
    "# print(count / total)"
   ]
  },
  {
   "cell_type": "code",
   "execution_count": null,
   "metadata": {},
   "outputs": [],
   "source": [
    "# test_df = pd.DataFrame(pred)"
   ]
  },
  {
   "cell_type": "code",
   "execution_count": null,
   "metadata": {},
   "outputs": [],
   "source": [
    "# test_df.hist()"
   ]
  },
  {
   "cell_type": "code",
   "execution_count": null,
   "metadata": {},
   "outputs": [],
   "source": [
    "# len(test_df[test_df[0] == 5]) / len(test_df)"
   ]
  },
  {
   "cell_type": "code",
   "execution_count": null,
   "metadata": {},
   "outputs": [],
   "source": [
    "# len(review_df[review_df['stars'] == 4]) / len(review_df)"
   ]
  },
  {
   "cell_type": "code",
   "execution_count": null,
   "metadata": {},
   "outputs": [],
   "source": [
    "# review_df.hist('stars')"
   ]
  },
  {
   "cell_type": "markdown",
   "metadata": {},
   "source": [
    "#### feature selection from 2MM to 20K and run same logistical regression model"
   ]
  },
  {
   "cell_type": "markdown",
   "metadata": {},
   "source": [
    "Measure features importance using ANOVA F-Value and reduce features from 2 million to 20,000\n",
    "Drop tokens.\n",
    "Measure feature importance (how much each token contributes to label predictions),\n",
    "and only include the most informative tokens.\n",
    "\n",
    "Take features and corresponding labels and output the feature importance score. \n",
    "Two commonly used functions are f_classif and chi2, which perform well per Google experiments"
   ]
  },
  {
   "cell_type": "code",
   "execution_count": 120,
   "metadata": {},
   "outputs": [],
   "source": [
    "# computes ANOVA F-value for provided sample"
   ]
  },
  {
   "cell_type": "code",
   "execution_count": 150,
   "metadata": {},
   "outputs": [],
   "source": [
    "NGRAM_RANGE = (1, 1)\n",
    "STOP_WORDS = 'english'\n",
    "TOKEN_MODE = 'word'\n",
    "MIN_DOCUMENT_FREQUENCY = 2"
   ]
  },
  {
   "cell_type": "code",
   "execution_count": 151,
   "metadata": {},
   "outputs": [],
   "source": [
    "kwargs = {\n",
    "            'ngram_range': NGRAM_RANGE,\n",
    "            'stop_words': STOP_WORDS,\n",
    "            'dtype': 'int32',\n",
    "            'strip_accents': 'unicode',\n",
    "            'decode_error': 'replace',\n",
    "            'analyzer': TOKEN_MODE,\n",
    "            'min_df': MIN_DOCUMENT_FREQUENCY,\n",
    "}"
   ]
  },
  {
   "cell_type": "code",
   "execution_count": 152,
   "metadata": {},
   "outputs": [],
   "source": [
    "vectorizer_ksel = TfidfVectorizer(**kwargs)"
   ]
  },
  {
   "cell_type": "code",
   "execution_count": 153,
   "metadata": {},
   "outputs": [],
   "source": [
    "TOP_K = 20000"
   ]
  },
  {
   "cell_type": "code",
   "execution_count": 154,
   "metadata": {},
   "outputs": [],
   "source": [
    "# Select top 'k' of the vectorized features.\n",
    "selector = SelectKBest(f_classif, k=min(TOP_K, x_train.shape[1]))\n",
    "    "
   ]
  },
  {
   "cell_type": "code",
   "execution_count": 155,
   "metadata": {},
   "outputs": [
    {
     "data": {
      "text/plain": [
       "SelectKBest(k=20000, score_func=<function f_classif at 0x1bf079c80>)"
      ]
     },
     "execution_count": 155,
     "metadata": {},
     "output_type": "execute_result"
    }
   ],
   "source": [
    "selector.fit(x_train, train_labels)\n",
    "    "
   ]
  },
  {
   "cell_type": "code",
   "execution_count": 156,
   "metadata": {},
   "outputs": [],
   "source": [
    "x_train_ksel = selector.transform(x_train).astype('float32')"
   ]
  },
  {
   "cell_type": "code",
   "execution_count": 157,
   "metadata": {},
   "outputs": [
    {
     "data": {
      "text/plain": [
       "(1988337, 20000)"
      ]
     },
     "execution_count": 157,
     "metadata": {},
     "output_type": "execute_result"
    }
   ],
   "source": [
    "x_train_ksel.shape"
   ]
  },
  {
   "cell_type": "code",
   "execution_count": 158,
   "metadata": {},
   "outputs": [],
   "source": [
    "# ratio of features to observations = "
   ]
  },
  {
   "cell_type": "code",
   "execution_count": 159,
   "metadata": {},
   "outputs": [],
   "source": [
    "x_val_ksel = selector.transform(x_test).astype('float32')"
   ]
  },
  {
   "cell_type": "code",
   "execution_count": 160,
   "metadata": {},
   "outputs": [
    {
     "data": {
      "text/plain": [
       "(497085, 20000)"
      ]
     },
     "execution_count": 160,
     "metadata": {},
     "output_type": "execute_result"
    }
   ],
   "source": [
    "x_val_ksel.shape"
   ]
  },
  {
   "cell_type": "code",
   "execution_count": 161,
   "metadata": {},
   "outputs": [],
   "source": [
    "model_ksel = LogisticRegression()"
   ]
  },
  {
   "cell_type": "code",
   "execution_count": 162,
   "metadata": {},
   "outputs": [
    {
     "data": {
      "text/plain": [
       "LogisticRegression(C=1.0, class_weight=None, dual=False, fit_intercept=True,\n",
       "          intercept_scaling=1, max_iter=100, multi_class='ovr', n_jobs=1,\n",
       "          penalty='l2', random_state=None, solver='liblinear', tol=0.0001,\n",
       "          verbose=0, warm_start=False)"
      ]
     },
     "execution_count": 162,
     "metadata": {},
     "output_type": "execute_result"
    }
   ],
   "source": [
    "model_ksel.fit(x_train_ksel, train_labels)"
   ]
  },
  {
   "cell_type": "code",
   "execution_count": 143,
   "metadata": {},
   "outputs": [
    {
     "data": {
      "text/plain": [
       "array([1., 2., 3., 4., 5.])"
      ]
     },
     "execution_count": 143,
     "metadata": {},
     "output_type": "execute_result"
    }
   ],
   "source": [
    "model_ksel.classes_"
   ]
  },
  {
   "cell_type": "code",
   "execution_count": null,
   "metadata": {},
   "outputs": [],
   "source": [
    "model_"
   ]
  },
  {
   "cell_type": "code",
   "execution_count": 163,
   "metadata": {},
   "outputs": [
    {
     "data": {
      "text/plain": [
       "(497085,)"
      ]
     },
     "execution_count": 163,
     "metadata": {},
     "output_type": "execute_result"
    }
   ],
   "source": [
    "y_preds_ksel = model_ksel.predict(x_val_ksel)\n",
    "y_preds_ksel.shape"
   ]
  },
  {
   "cell_type": "code",
   "execution_count": 164,
   "metadata": {},
   "outputs": [
    {
     "data": {
      "text/plain": [
       "(497085, 5)"
      ]
     },
     "execution_count": 164,
     "metadata": {},
     "output_type": "execute_result"
    }
   ],
   "source": [
    "y_probas_ksel = model_ksel.predict_proba(x_val_ksel)\n",
    "y_probas_ksel.shape"
   ]
  },
  {
   "cell_type": "code",
   "execution_count": 241,
   "metadata": {},
   "outputs": [
    {
     "data": {
      "text/plain": [
       "0.6557912630636611"
      ]
     },
     "execution_count": 241,
     "metadata": {},
     "output_type": "execute_result"
    }
   ],
   "source": [
    "accuracy_ksel = accuracy_score(test_labels, y_preds_ksel)\n",
    "accuracy_ksel"
   ]
  },
  {
   "cell_type": "code",
   "execution_count": 242,
   "metadata": {},
   "outputs": [
    {
     "data": {
      "text/plain": [
       "325984"
      ]
     },
     "execution_count": 242,
     "metadata": {},
     "output_type": "execute_result"
    }
   ],
   "source": [
    "accuracy2_ksel = accuracy_score(test_labels, y_preds_ksel, normalize=False)\n",
    "accuracy2_ksel"
   ]
  },
  {
   "cell_type": "code",
   "execution_count": 243,
   "metadata": {},
   "outputs": [
    {
     "data": {
      "text/plain": [
       "0.8248980531024912"
      ]
     },
     "execution_count": 243,
     "metadata": {},
     "output_type": "execute_result"
    }
   ],
   "source": [
    "logloss_ksel = log_loss(test_labels, y_probas_ksel)\n",
    "logloss_ksel"
   ]
  },
  {
   "cell_type": "markdown",
   "metadata": {},
   "source": [
    "### n-gram variations models"
   ]
  },
  {
   "cell_type": "code",
   "execution_count": 195,
   "metadata": {},
   "outputs": [],
   "source": [
    "NGRAM_RANGE = (2, 2)\n",
    "\n",
    "TOP_K = 20000\n",
    "STOP_WORDS = 'english'\n",
    "TOKEN_MODE = 'word'\n",
    "MIN_DOCUMENT_FREQUENCY = 2"
   ]
  },
  {
   "cell_type": "code",
   "execution_count": 196,
   "metadata": {},
   "outputs": [],
   "source": [
    "kwargs = {\n",
    "            'ngram_range': NGRAM_RANGE,\n",
    "            'stop_words': STOP_WORDS,\n",
    "            'dtype': 'int32',\n",
    "            'strip_accents': 'unicode',\n",
    "            'decode_error': 'replace',\n",
    "            'analyzer': TOKEN_MODE,\n",
    "            'min_df': MIN_DOCUMENT_FREQUENCY,\n",
    "}"
   ]
  },
  {
   "cell_type": "code",
   "execution_count": 197,
   "metadata": {},
   "outputs": [],
   "source": [
    "vectorizer_bi = TfidfVectorizer(**kwargs)"
   ]
  },
  {
   "cell_type": "code",
   "execution_count": 198,
   "metadata": {},
   "outputs": [],
   "source": [
    "x_train = vectorizer_bi.fit_transform(train_features)"
   ]
  },
  {
   "cell_type": "code",
   "execution_count": 199,
   "metadata": {},
   "outputs": [],
   "source": [
    "# Select top 'k' of the vectorized features.\n",
    "selector = SelectKBest(f_classif, k=min(TOP_K, x_train.shape[1]))"
   ]
  },
  {
   "cell_type": "code",
   "execution_count": 200,
   "metadata": {},
   "outputs": [
    {
     "data": {
      "text/plain": [
       "SelectKBest(k=20000, score_func=<function f_classif at 0x1bf079c80>)"
      ]
     },
     "execution_count": 200,
     "metadata": {},
     "output_type": "execute_result"
    }
   ],
   "source": [
    "selector.fit(x_train, train_labels)"
   ]
  },
  {
   "cell_type": "code",
   "execution_count": 201,
   "metadata": {},
   "outputs": [],
   "source": [
    "x_train = selector.transform(x_train).astype('float32')"
   ]
  },
  {
   "cell_type": "code",
   "execution_count": 202,
   "metadata": {},
   "outputs": [
    {
     "data": {
      "text/plain": [
       "(1988337, 20000)"
      ]
     },
     "execution_count": 202,
     "metadata": {},
     "output_type": "execute_result"
    }
   ],
   "source": [
    "x_train.shape"
   ]
  },
  {
   "cell_type": "code",
   "execution_count": 204,
   "metadata": {},
   "outputs": [],
   "source": [
    "x_test = vectorizer_bi.transform(test_features)"
   ]
  },
  {
   "cell_type": "code",
   "execution_count": 210,
   "metadata": {},
   "outputs": [],
   "source": [
    "x_val = selector.transform(x_test).astype('float32')"
   ]
  },
  {
   "cell_type": "code",
   "execution_count": 211,
   "metadata": {},
   "outputs": [
    {
     "data": {
      "text/plain": [
       "(497085, 20000)"
      ]
     },
     "execution_count": 211,
     "metadata": {},
     "output_type": "execute_result"
    }
   ],
   "source": [
    "x_val.shape"
   ]
  },
  {
   "cell_type": "code",
   "execution_count": 205,
   "metadata": {},
   "outputs": [],
   "source": [
    "model = LogisticRegression()"
   ]
  },
  {
   "cell_type": "code",
   "execution_count": 206,
   "metadata": {},
   "outputs": [
    {
     "data": {
      "text/plain": [
       "LogisticRegression(C=1.0, class_weight=None, dual=False, fit_intercept=True,\n",
       "          intercept_scaling=1, max_iter=100, multi_class='ovr', n_jobs=1,\n",
       "          penalty='l2', random_state=None, solver='liblinear', tol=0.0001,\n",
       "          verbose=0, warm_start=False)"
      ]
     },
     "execution_count": 206,
     "metadata": {},
     "output_type": "execute_result"
    }
   ],
   "source": [
    "model.fit(x_train, train_labels)"
   ]
  },
  {
   "cell_type": "code",
   "execution_count": 212,
   "metadata": {},
   "outputs": [
    {
     "data": {
      "text/plain": [
       "(497085,)"
      ]
     },
     "execution_count": 212,
     "metadata": {},
     "output_type": "execute_result"
    }
   ],
   "source": [
    "# TODO (Lee) question for Miles - without having donw selector - feature number mismatch ?\n",
    "y_preds_bi = model.predict(x_val)\n",
    "y_preds_bi.shape"
   ]
  },
  {
   "cell_type": "code",
   "execution_count": 213,
   "metadata": {},
   "outputs": [
    {
     "data": {
      "text/plain": [
       "(497085,)"
      ]
     },
     "execution_count": 213,
     "metadata": {},
     "output_type": "execute_result"
    }
   ],
   "source": [
    "y_preds_bi = model.predict(x_val)\n",
    "y_preds_bi.shape"
   ]
  },
  {
   "cell_type": "code",
   "execution_count": 214,
   "metadata": {},
   "outputs": [
    {
     "data": {
      "text/plain": [
       "(497085, 5)"
      ]
     },
     "execution_count": 214,
     "metadata": {},
     "output_type": "execute_result"
    }
   ],
   "source": [
    "y_probas_bi = model.predict_proba(x_val)\n",
    "y_probas_bi.shape"
   ]
  },
  {
   "cell_type": "code",
   "execution_count": 239,
   "metadata": {},
   "outputs": [
    {
     "data": {
      "text/plain": [
       "0.6279549775189354"
      ]
     },
     "execution_count": 239,
     "metadata": {},
     "output_type": "execute_result"
    }
   ],
   "source": [
    "accuracy_bi = accuracy_score(test_labels, y_preds_bi)\n",
    "accuracy_bi"
   ]
  },
  {
   "cell_type": "code",
   "execution_count": 240,
   "metadata": {},
   "outputs": [
    {
     "data": {
      "text/plain": [
       "0.9108587796559224"
      ]
     },
     "execution_count": 240,
     "metadata": {},
     "output_type": "execute_result"
    }
   ],
   "source": [
    "logloss_bi = log_loss(test_labels, y_probas_bi)\n",
    "logloss_bi"
   ]
  },
  {
   "cell_type": "code",
   "execution_count": 245,
   "metadata": {},
   "outputs": [
    {
     "data": {
      "text/plain": [
       "(0.8151836878756975, 0.9108587796559224, 0.8248980531024912)"
      ]
     },
     "execution_count": 245,
     "metadata": {},
     "output_type": "execute_result"
    }
   ],
   "source": [
    "logloss, logloss_bi, logloss_ksel"
   ]
  },
  {
   "cell_type": "code",
   "execution_count": 246,
   "metadata": {},
   "outputs": [
    {
     "data": {
      "text/plain": [
       "(0.6616353339972036, 0.6279549775189354, 0.6557912630636611)"
      ]
     },
     "execution_count": 246,
     "metadata": {},
     "output_type": "execute_result"
    }
   ],
   "source": [
    "accuracy, accuracy_bi, accuracy_ksel"
   ]
  },
  {
   "cell_type": "code",
   "execution_count": null,
   "metadata": {},
   "outputs": [],
   "source": [
    "# stemming and lemmatization"
   ]
  },
  {
   "cell_type": "code",
   "execution_count": 217,
   "metadata": {},
   "outputs": [
    {
     "data": {
      "text/plain": [
       "array([0.03306378, 0.02442959, 0.03171863, 0.04111088, 0.86967713])"
      ]
     },
     "execution_count": 217,
     "metadata": {},
     "output_type": "execute_result"
    }
   ],
   "source": [
    "y_probas_bi[0]"
   ]
  },
  {
   "cell_type": "code",
   "execution_count": 218,
   "metadata": {},
   "outputs": [
    {
     "data": {
      "text/plain": [
       "array([0.05474705, 0.00567109, 0.00933909, 0.01362086, 0.9166219 ])"
      ]
     },
     "execution_count": 218,
     "metadata": {},
     "output_type": "execute_result"
    }
   ],
   "source": [
    "y_probas[0]"
   ]
  },
  {
   "cell_type": "code",
   "execution_count": 219,
   "metadata": {},
   "outputs": [
    {
     "data": {
      "text/plain": [
       "array([0.0856819 , 0.00453427, 0.00444504, 0.02894287, 0.87639592])"
      ]
     },
     "execution_count": 219,
     "metadata": {},
     "output_type": "execute_result"
    }
   ],
   "source": [
    "y_probas_ksel[0]"
   ]
  },
  {
   "cell_type": "code",
   "execution_count": 223,
   "metadata": {},
   "outputs": [
    {
     "data": {
      "text/plain": [
       "array([[0., 0., 0., ..., 0., 0., 0.]], dtype=float32)"
      ]
     },
     "execution_count": 223,
     "metadata": {},
     "output_type": "execute_result"
    }
   ],
   "source": [
    "x_val[0].toarray()"
   ]
  },
  {
   "cell_type": "code",
   "execution_count": 230,
   "metadata": {},
   "outputs": [
    {
     "data": {
      "text/plain": [
       "array([[0., 0., 0., ..., 0., 0., 0.]])"
      ]
     },
     "execution_count": 230,
     "metadata": {},
     "output_type": "execute_result"
    }
   ],
   "source": [
    "x_test[0].toarray()"
   ]
  },
  {
   "cell_type": "code",
   "execution_count": 231,
   "metadata": {},
   "outputs": [
    {
     "data": {
      "text/plain": [
       "5.0"
      ]
     },
     "execution_count": 231,
     "metadata": {},
     "output_type": "execute_result"
    }
   ],
   "source": [
    "y_preds_bi[0]"
   ]
  },
  {
   "cell_type": "code",
   "execution_count": 232,
   "metadata": {},
   "outputs": [
    {
     "data": {
      "text/plain": [
       "5.0"
      ]
     },
     "execution_count": 232,
     "metadata": {},
     "output_type": "execute_result"
    }
   ],
   "source": [
    "y_preds[0]"
   ]
  },
  {
   "cell_type": "code",
   "execution_count": 233,
   "metadata": {},
   "outputs": [
    {
     "data": {
      "text/plain": [
       "5.0"
      ]
     },
     "execution_count": 233,
     "metadata": {},
     "output_type": "execute_result"
    }
   ],
   "source": [
    "y_preds_ksel[0]"
   ]
  },
  {
   "cell_type": "code",
   "execution_count": 234,
   "metadata": {},
   "outputs": [
    {
     "data": {
      "text/plain": [
       "array([5., 5., 5., 3., 1., 5., 5., 5., 5., 5.])"
      ]
     },
     "execution_count": 234,
     "metadata": {},
     "output_type": "execute_result"
    }
   ],
   "source": [
    "y_preds[0:10]"
   ]
  },
  {
   "cell_type": "code",
   "execution_count": 235,
   "metadata": {},
   "outputs": [
    {
     "data": {
      "text/plain": [
       "array([5., 1., 5., 3., 1., 5., 5., 4., 5., 5.])"
      ]
     },
     "execution_count": 235,
     "metadata": {},
     "output_type": "execute_result"
    }
   ],
   "source": [
    "y_preds_bi[0:10]"
   ]
  },
  {
   "cell_type": "code",
   "execution_count": 236,
   "metadata": {},
   "outputs": [
    {
     "data": {
      "text/plain": [
       "array([5., 1., 5., 3., 1., 5., 5., 5., 5., 5.])"
      ]
     },
     "execution_count": 236,
     "metadata": {},
     "output_type": "execute_result"
    }
   ],
   "source": [
    "y_preds_ksel[0:10]"
   ]
  },
  {
   "cell_type": "code",
   "execution_count": null,
   "metadata": {},
   "outputs": [],
   "source": []
  }
 ],
 "metadata": {
  "kernelspec": {
   "display_name": "Python 3",
   "language": "python",
   "name": "python3"
  },
  "language_info": {
   "codemirror_mode": {
    "name": "ipython",
    "version": 3
   },
   "file_extension": ".py",
   "mimetype": "text/x-python",
   "name": "python",
   "nbconvert_exporter": "python",
   "pygments_lexer": "ipython3",
   "version": "3.6.5"
  }
 },
 "nbformat": 4,
 "nbformat_minor": 2
}
